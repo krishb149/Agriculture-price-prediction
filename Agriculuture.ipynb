{
  "nbformat": 4,
  "nbformat_minor": 0,
  "metadata": {
    "colab": {
      "name": "Agriculuture.ipynb",
      "provenance": [],
      "collapsed_sections": []
    },
    "kernelspec": {
      "display_name": "Python 3",
      "name": "python3"
    },
    "language_info": {
      "name": "python"
    }
  },
  "cells": [
    {
      "cell_type": "markdown",
      "metadata": {
        "id": "-hDeJdRlLCNf"
      },
      "source": [
        "# **AGRILINKS PROJECT**\n",
        "KRISH BALAR\n",
        "Email - krishbalar7@gmail.com"
      ]
    },
    {
      "cell_type": "code",
      "metadata": {
        "id": "BYo3bCauLQ9Y"
      },
      "source": [
        "#importing libraries\n",
        "import numpy as np\n",
        "import pandas as pd\n",
        "\n",
        "# Import Libraries for visualization\n",
        "import matplotlib.pyplot as plt\n",
        "import seaborn as sns"
      ],
      "execution_count": 40,
      "outputs": []
    },
    {
      "cell_type": "code",
      "metadata": {
        "colab": {
          "resources": {
            "http://localhost:8080/nbextensions/google.colab/files.js": {
              "data": "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",
              "ok": true,
              "headers": [
                [
                  "content-type",
                  "application/javascript"
                ]
              ],
              "status": 200,
              "status_text": ""
            }
          },
          "base_uri": "https://localhost:8080/",
          "height": 275
        },
        "id": "x6y65z_0LcKX",
        "outputId": "426d5b5d-67c0-442d-b451-7f50c39cb3e9"
      },
      "source": [
        "#importing data set using pandas\n",
        "from google.colab import files \n",
        "uploaded = files.upload()\n",
        "import io\n",
        "agri_data = pd.read_csv('agriculture.csv', error_bad_lines=False)\n",
        "\n",
        "print(agri_data.shape)\n",
        "agri_data.head()"
      ],
      "execution_count": 41,
      "outputs": [
        {
          "output_type": "display_data",
          "data": {
            "text/html": [
              "\n",
              "     <input type=\"file\" id=\"files-6a2a12f6-1203-48f4-ac34-658feea89249\" name=\"files[]\" multiple disabled\n",
              "        style=\"border:none\" />\n",
              "     <output id=\"result-6a2a12f6-1203-48f4-ac34-658feea89249\">\n",
              "      Upload widget is only available when the cell has been executed in the\n",
              "      current browser session. Please rerun this cell to enable.\n",
              "      </output>\n",
              "      <script src=\"/nbextensions/google.colab/files.js\"></script> "
            ],
            "text/plain": [
              "<IPython.core.display.HTML object>"
            ]
          },
          "metadata": {}
        },
        {
          "output_type": "stream",
          "name": "stdout",
          "text": [
            "Saving agriculture.csv to agriculture (2).csv\n",
            "(1827, 10)\n"
          ]
        },
        {
          "output_type": "execute_result",
          "data": {
            "text/html": [
              "<div>\n",
              "<style scoped>\n",
              "    .dataframe tbody tr th:only-of-type {\n",
              "        vertical-align: middle;\n",
              "    }\n",
              "\n",
              "    .dataframe tbody tr th {\n",
              "        vertical-align: top;\n",
              "    }\n",
              "\n",
              "    .dataframe thead th {\n",
              "        text-align: right;\n",
              "    }\n",
              "</style>\n",
              "<table border=\"1\" class=\"dataframe\">\n",
              "  <thead>\n",
              "    <tr style=\"text-align: right;\">\n",
              "      <th></th>\n",
              "      <th>Sl no.</th>\n",
              "      <th>District Name</th>\n",
              "      <th>Market Name</th>\n",
              "      <th>Commodity</th>\n",
              "      <th>Variety</th>\n",
              "      <th>Grade</th>\n",
              "      <th>Min Price (Rs./Quintal)</th>\n",
              "      <th>Max Price (Rs./Quintal)</th>\n",
              "      <th>Modal Price (Rs./Quintal)</th>\n",
              "      <th>Price Date</th>\n",
              "    </tr>\n",
              "  </thead>\n",
              "  <tbody>\n",
              "    <tr>\n",
              "      <th>0</th>\n",
              "      <td>1</td>\n",
              "      <td>Agra</td>\n",
              "      <td>Achnera</td>\n",
              "      <td>Potato</td>\n",
              "      <td>Desi</td>\n",
              "      <td>FAQ</td>\n",
              "      <td>900</td>\n",
              "      <td>1000</td>\n",
              "      <td>950</td>\n",
              "      <td>2020/12/30</td>\n",
              "    </tr>\n",
              "    <tr>\n",
              "      <th>1</th>\n",
              "      <td>2</td>\n",
              "      <td>Agra</td>\n",
              "      <td>Achnera</td>\n",
              "      <td>Potato</td>\n",
              "      <td>Desi</td>\n",
              "      <td>FAQ</td>\n",
              "      <td>800</td>\n",
              "      <td>900</td>\n",
              "      <td>850</td>\n",
              "      <td>2020/12/29</td>\n",
              "    </tr>\n",
              "    <tr>\n",
              "      <th>2</th>\n",
              "      <td>3</td>\n",
              "      <td>Agra</td>\n",
              "      <td>Achnera</td>\n",
              "      <td>Potato</td>\n",
              "      <td>Desi</td>\n",
              "      <td>FAQ</td>\n",
              "      <td>850</td>\n",
              "      <td>950</td>\n",
              "      <td>900</td>\n",
              "      <td>2020/12/28</td>\n",
              "    </tr>\n",
              "    <tr>\n",
              "      <th>3</th>\n",
              "      <td>4</td>\n",
              "      <td>Agra</td>\n",
              "      <td>Achnera</td>\n",
              "      <td>Potato</td>\n",
              "      <td>Desi</td>\n",
              "      <td>FAQ</td>\n",
              "      <td>800</td>\n",
              "      <td>900</td>\n",
              "      <td>850</td>\n",
              "      <td>2020/12/27</td>\n",
              "    </tr>\n",
              "    <tr>\n",
              "      <th>4</th>\n",
              "      <td>5</td>\n",
              "      <td>Agra</td>\n",
              "      <td>Achnera</td>\n",
              "      <td>Potato</td>\n",
              "      <td>Desi</td>\n",
              "      <td>FAQ</td>\n",
              "      <td>800</td>\n",
              "      <td>900</td>\n",
              "      <td>850</td>\n",
              "      <td>2020/12/26</td>\n",
              "    </tr>\n",
              "  </tbody>\n",
              "</table>\n",
              "</div>"
            ],
            "text/plain": [
              "   Sl no. District Name  ... Modal Price (Rs./Quintal)  Price Date\n",
              "0       1          Agra  ...                       950  2020/12/30\n",
              "1       2          Agra  ...                       850  2020/12/29\n",
              "2       3          Agra  ...                       900  2020/12/28\n",
              "3       4          Agra  ...                       850  2020/12/27\n",
              "4       5          Agra  ...                       850  2020/12/26\n",
              "\n",
              "[5 rows x 10 columns]"
            ]
          },
          "metadata": {},
          "execution_count": 41
        }
      ]
    },
    {
      "cell_type": "code",
      "metadata": {
        "id": "K9Se7l6GQP-D",
        "colab": {
          "base_uri": "https://localhost:8080/"
        },
        "outputId": "8c779317-729c-40ef-94ea-7e25a9d2d3e7"
      },
      "source": [
        "agri_data.info()"
      ],
      "execution_count": 42,
      "outputs": [
        {
          "output_type": "stream",
          "name": "stdout",
          "text": [
            "<class 'pandas.core.frame.DataFrame'>\n",
            "RangeIndex: 1827 entries, 0 to 1826\n",
            "Data columns (total 10 columns):\n",
            " #   Column                     Non-Null Count  Dtype \n",
            "---  ------                     --------------  ----- \n",
            " 0   Sl no.                     1827 non-null   int64 \n",
            " 1   District Name              1827 non-null   object\n",
            " 2   Market Name                1827 non-null   object\n",
            " 3   Commodity                  1827 non-null   object\n",
            " 4   Variety                    1827 non-null   object\n",
            " 5   Grade                      1827 non-null   object\n",
            " 6   Min Price (Rs./Quintal)    1827 non-null   int64 \n",
            " 7   Max Price (Rs./Quintal)    1827 non-null   int64 \n",
            " 8   Modal Price (Rs./Quintal)  1827 non-null   int64 \n",
            " 9   Price Date                 1827 non-null   object\n",
            "dtypes: int64(4), object(6)\n",
            "memory usage: 142.9+ KB\n"
          ]
        }
      ]
    },
    {
      "cell_type": "code",
      "metadata": {
        "id": "7EJq8eKTQWCZ"
      },
      "source": [
        "#making copy of data to keep original data safe\n",
        "c_data = agri_data.copy()"
      ],
      "execution_count": 43,
      "outputs": []
    },
    {
      "cell_type": "code",
      "metadata": {
        "id": "hnBOrvsIQnWi",
        "colab": {
          "base_uri": "https://localhost:8080/"
        },
        "outputId": "db78ba37-b03c-4cda-d176-6c0a826fbc01"
      },
      "source": [
        "c_data.columns"
      ],
      "execution_count": 44,
      "outputs": [
        {
          "output_type": "execute_result",
          "data": {
            "text/plain": [
              "Index(['Sl no.', 'District Name', 'Market Name', 'Commodity', 'Variety',\n",
              "       'Grade', 'Min Price (Rs./Quintal)', 'Max Price (Rs./Quintal)',\n",
              "       'Modal Price (Rs./Quintal)', 'Price Date'],\n",
              "      dtype='object')"
            ]
          },
          "metadata": {},
          "execution_count": 44
        }
      ]
    },
    {
      "cell_type": "code",
      "metadata": {
        "id": "gA1YmbTyQsDS",
        "colab": {
          "base_uri": "https://localhost:8080/"
        },
        "outputId": "1eb55304-180b-485d-c4a7-5550fb683828"
      },
      "source": [
        "#checking null value\n",
        "c_data.isnull().sum()"
      ],
      "execution_count": 45,
      "outputs": [
        {
          "output_type": "execute_result",
          "data": {
            "text/plain": [
              "Sl no.                       0\n",
              "District Name                0\n",
              "Market Name                  0\n",
              "Commodity                    0\n",
              "Variety                      0\n",
              "Grade                        0\n",
              "Min Price (Rs./Quintal)      0\n",
              "Max Price (Rs./Quintal)      0\n",
              "Modal Price (Rs./Quintal)    0\n",
              "Price Date                   0\n",
              "dtype: int64"
            ]
          },
          "metadata": {},
          "execution_count": 45
        }
      ]
    },
    {
      "cell_type": "markdown",
      "metadata": {
        "id": "KJNCbo5GQ4ad"
      },
      "source": [
        "\n",
        "\n",
        "*   There are no null values so we can continue\n",
        "\n",
        "\n"
      ]
    },
    {
      "cell_type": "code",
      "metadata": {
        "id": "2V2n4eUtRzQQ"
      },
      "source": [
        "price_data = c_data[['Price Date','Min Price (Rs./Quintal)','Max Price (Rs./Quintal)','Modal Price (Rs./Quintal)']]"
      ],
      "execution_count": 46,
      "outputs": []
    },
    {
      "cell_type": "code",
      "metadata": {
        "id": "3toUoYqPSIaj",
        "colab": {
          "base_uri": "https://localhost:8080/",
          "height": 417
        },
        "outputId": "9b9ffb55-d935-4577-e380-92c191f2d7de"
      },
      "source": [
        "#printing price data    TASK (A)\n",
        "price_data"
      ],
      "execution_count": 47,
      "outputs": [
        {
          "output_type": "execute_result",
          "data": {
            "text/html": [
              "<div>\n",
              "<style scoped>\n",
              "    .dataframe tbody tr th:only-of-type {\n",
              "        vertical-align: middle;\n",
              "    }\n",
              "\n",
              "    .dataframe tbody tr th {\n",
              "        vertical-align: top;\n",
              "    }\n",
              "\n",
              "    .dataframe thead th {\n",
              "        text-align: right;\n",
              "    }\n",
              "</style>\n",
              "<table border=\"1\" class=\"dataframe\">\n",
              "  <thead>\n",
              "    <tr style=\"text-align: right;\">\n",
              "      <th></th>\n",
              "      <th>Price Date</th>\n",
              "      <th>Min Price (Rs./Quintal)</th>\n",
              "      <th>Max Price (Rs./Quintal)</th>\n",
              "      <th>Modal Price (Rs./Quintal)</th>\n",
              "    </tr>\n",
              "  </thead>\n",
              "  <tbody>\n",
              "    <tr>\n",
              "      <th>0</th>\n",
              "      <td>2020/12/30</td>\n",
              "      <td>900</td>\n",
              "      <td>1000</td>\n",
              "      <td>950</td>\n",
              "    </tr>\n",
              "    <tr>\n",
              "      <th>1</th>\n",
              "      <td>2020/12/29</td>\n",
              "      <td>800</td>\n",
              "      <td>900</td>\n",
              "      <td>850</td>\n",
              "    </tr>\n",
              "    <tr>\n",
              "      <th>2</th>\n",
              "      <td>2020/12/28</td>\n",
              "      <td>850</td>\n",
              "      <td>950</td>\n",
              "      <td>900</td>\n",
              "    </tr>\n",
              "    <tr>\n",
              "      <th>3</th>\n",
              "      <td>2020/12/27</td>\n",
              "      <td>800</td>\n",
              "      <td>900</td>\n",
              "      <td>850</td>\n",
              "    </tr>\n",
              "    <tr>\n",
              "      <th>4</th>\n",
              "      <td>2020/12/26</td>\n",
              "      <td>800</td>\n",
              "      <td>900</td>\n",
              "      <td>850</td>\n",
              "    </tr>\n",
              "    <tr>\n",
              "      <th>...</th>\n",
              "      <td>...</td>\n",
              "      <td>...</td>\n",
              "      <td>...</td>\n",
              "      <td>...</td>\n",
              "    </tr>\n",
              "    <tr>\n",
              "      <th>1822</th>\n",
              "      <td>2020/01/06</td>\n",
              "      <td>1000</td>\n",
              "      <td>1200</td>\n",
              "      <td>1100</td>\n",
              "    </tr>\n",
              "    <tr>\n",
              "      <th>1823</th>\n",
              "      <td>2020/01/05</td>\n",
              "      <td>1000</td>\n",
              "      <td>1200</td>\n",
              "      <td>1100</td>\n",
              "    </tr>\n",
              "    <tr>\n",
              "      <th>1824</th>\n",
              "      <td>2020/01/04</td>\n",
              "      <td>1100</td>\n",
              "      <td>1300</td>\n",
              "      <td>1200</td>\n",
              "    </tr>\n",
              "    <tr>\n",
              "      <th>1825</th>\n",
              "      <td>2020/01/02</td>\n",
              "      <td>1100</td>\n",
              "      <td>1300</td>\n",
              "      <td>1200</td>\n",
              "    </tr>\n",
              "    <tr>\n",
              "      <th>1826</th>\n",
              "      <td>2020/01/01</td>\n",
              "      <td>1100</td>\n",
              "      <td>1300</td>\n",
              "      <td>1200</td>\n",
              "    </tr>\n",
              "  </tbody>\n",
              "</table>\n",
              "<p>1827 rows × 4 columns</p>\n",
              "</div>"
            ],
            "text/plain": [
              "      Price Date  ...  Modal Price (Rs./Quintal)\n",
              "0     2020/12/30  ...                        950\n",
              "1     2020/12/29  ...                        850\n",
              "2     2020/12/28  ...                        900\n",
              "3     2020/12/27  ...                        850\n",
              "4     2020/12/26  ...                        850\n",
              "...          ...  ...                        ...\n",
              "1822  2020/01/06  ...                       1100\n",
              "1823  2020/01/05  ...                       1100\n",
              "1824  2020/01/04  ...                       1200\n",
              "1825  2020/01/02  ...                       1200\n",
              "1826  2020/01/01  ...                       1200\n",
              "\n",
              "[1827 rows x 4 columns]"
            ]
          },
          "metadata": {},
          "execution_count": 47
        }
      ]
    },
    {
      "cell_type": "code",
      "metadata": {
        "id": "p4xahacDSSeS",
        "colab": {
          "base_uri": "https://localhost:8080/",
          "height": 417
        },
        "outputId": "2bd3e3f7-c0bb-49d4-8032-1765febf81f1"
      },
      "source": [
        "c_data"
      ],
      "execution_count": 48,
      "outputs": [
        {
          "output_type": "execute_result",
          "data": {
            "text/html": [
              "<div>\n",
              "<style scoped>\n",
              "    .dataframe tbody tr th:only-of-type {\n",
              "        vertical-align: middle;\n",
              "    }\n",
              "\n",
              "    .dataframe tbody tr th {\n",
              "        vertical-align: top;\n",
              "    }\n",
              "\n",
              "    .dataframe thead th {\n",
              "        text-align: right;\n",
              "    }\n",
              "</style>\n",
              "<table border=\"1\" class=\"dataframe\">\n",
              "  <thead>\n",
              "    <tr style=\"text-align: right;\">\n",
              "      <th></th>\n",
              "      <th>Sl no.</th>\n",
              "      <th>District Name</th>\n",
              "      <th>Market Name</th>\n",
              "      <th>Commodity</th>\n",
              "      <th>Variety</th>\n",
              "      <th>Grade</th>\n",
              "      <th>Min Price (Rs./Quintal)</th>\n",
              "      <th>Max Price (Rs./Quintal)</th>\n",
              "      <th>Modal Price (Rs./Quintal)</th>\n",
              "      <th>Price Date</th>\n",
              "    </tr>\n",
              "  </thead>\n",
              "  <tbody>\n",
              "    <tr>\n",
              "      <th>0</th>\n",
              "      <td>1</td>\n",
              "      <td>Agra</td>\n",
              "      <td>Achnera</td>\n",
              "      <td>Potato</td>\n",
              "      <td>Desi</td>\n",
              "      <td>FAQ</td>\n",
              "      <td>900</td>\n",
              "      <td>1000</td>\n",
              "      <td>950</td>\n",
              "      <td>2020/12/30</td>\n",
              "    </tr>\n",
              "    <tr>\n",
              "      <th>1</th>\n",
              "      <td>2</td>\n",
              "      <td>Agra</td>\n",
              "      <td>Achnera</td>\n",
              "      <td>Potato</td>\n",
              "      <td>Desi</td>\n",
              "      <td>FAQ</td>\n",
              "      <td>800</td>\n",
              "      <td>900</td>\n",
              "      <td>850</td>\n",
              "      <td>2020/12/29</td>\n",
              "    </tr>\n",
              "    <tr>\n",
              "      <th>2</th>\n",
              "      <td>3</td>\n",
              "      <td>Agra</td>\n",
              "      <td>Achnera</td>\n",
              "      <td>Potato</td>\n",
              "      <td>Desi</td>\n",
              "      <td>FAQ</td>\n",
              "      <td>850</td>\n",
              "      <td>950</td>\n",
              "      <td>900</td>\n",
              "      <td>2020/12/28</td>\n",
              "    </tr>\n",
              "    <tr>\n",
              "      <th>3</th>\n",
              "      <td>4</td>\n",
              "      <td>Agra</td>\n",
              "      <td>Achnera</td>\n",
              "      <td>Potato</td>\n",
              "      <td>Desi</td>\n",
              "      <td>FAQ</td>\n",
              "      <td>800</td>\n",
              "      <td>900</td>\n",
              "      <td>850</td>\n",
              "      <td>2020/12/27</td>\n",
              "    </tr>\n",
              "    <tr>\n",
              "      <th>4</th>\n",
              "      <td>5</td>\n",
              "      <td>Agra</td>\n",
              "      <td>Achnera</td>\n",
              "      <td>Potato</td>\n",
              "      <td>Desi</td>\n",
              "      <td>FAQ</td>\n",
              "      <td>800</td>\n",
              "      <td>900</td>\n",
              "      <td>850</td>\n",
              "      <td>2020/12/26</td>\n",
              "    </tr>\n",
              "    <tr>\n",
              "      <th>...</th>\n",
              "      <td>...</td>\n",
              "      <td>...</td>\n",
              "      <td>...</td>\n",
              "      <td>...</td>\n",
              "      <td>...</td>\n",
              "      <td>...</td>\n",
              "      <td>...</td>\n",
              "      <td>...</td>\n",
              "      <td>...</td>\n",
              "      <td>...</td>\n",
              "    </tr>\n",
              "    <tr>\n",
              "      <th>1822</th>\n",
              "      <td>1823</td>\n",
              "      <td>Agra</td>\n",
              "      <td>Samsabad</td>\n",
              "      <td>Potato</td>\n",
              "      <td>Local</td>\n",
              "      <td>FAQ</td>\n",
              "      <td>1000</td>\n",
              "      <td>1200</td>\n",
              "      <td>1100</td>\n",
              "      <td>2020/01/06</td>\n",
              "    </tr>\n",
              "    <tr>\n",
              "      <th>1823</th>\n",
              "      <td>1824</td>\n",
              "      <td>Agra</td>\n",
              "      <td>Samsabad</td>\n",
              "      <td>Potato</td>\n",
              "      <td>Local</td>\n",
              "      <td>FAQ</td>\n",
              "      <td>1000</td>\n",
              "      <td>1200</td>\n",
              "      <td>1100</td>\n",
              "      <td>2020/01/05</td>\n",
              "    </tr>\n",
              "    <tr>\n",
              "      <th>1824</th>\n",
              "      <td>1825</td>\n",
              "      <td>Agra</td>\n",
              "      <td>Samsabad</td>\n",
              "      <td>Potato</td>\n",
              "      <td>Local</td>\n",
              "      <td>FAQ</td>\n",
              "      <td>1100</td>\n",
              "      <td>1300</td>\n",
              "      <td>1200</td>\n",
              "      <td>2020/01/04</td>\n",
              "    </tr>\n",
              "    <tr>\n",
              "      <th>1825</th>\n",
              "      <td>1826</td>\n",
              "      <td>Agra</td>\n",
              "      <td>Samsabad</td>\n",
              "      <td>Potato</td>\n",
              "      <td>Local</td>\n",
              "      <td>FAQ</td>\n",
              "      <td>1100</td>\n",
              "      <td>1300</td>\n",
              "      <td>1200</td>\n",
              "      <td>2020/01/02</td>\n",
              "    </tr>\n",
              "    <tr>\n",
              "      <th>1826</th>\n",
              "      <td>1827</td>\n",
              "      <td>Agra</td>\n",
              "      <td>Samsabad</td>\n",
              "      <td>Potato</td>\n",
              "      <td>Local</td>\n",
              "      <td>FAQ</td>\n",
              "      <td>1100</td>\n",
              "      <td>1300</td>\n",
              "      <td>1200</td>\n",
              "      <td>2020/01/01</td>\n",
              "    </tr>\n",
              "  </tbody>\n",
              "</table>\n",
              "<p>1827 rows × 10 columns</p>\n",
              "</div>"
            ],
            "text/plain": [
              "      Sl no. District Name  ... Modal Price (Rs./Quintal)  Price Date\n",
              "0          1          Agra  ...                       950  2020/12/30\n",
              "1          2          Agra  ...                       850  2020/12/29\n",
              "2          3          Agra  ...                       900  2020/12/28\n",
              "3          4          Agra  ...                       850  2020/12/27\n",
              "4          5          Agra  ...                       850  2020/12/26\n",
              "...      ...           ...  ...                       ...         ...\n",
              "1822    1823          Agra  ...                      1100  2020/01/06\n",
              "1823    1824          Agra  ...                      1100  2020/01/05\n",
              "1824    1825          Agra  ...                      1200  2020/01/04\n",
              "1825    1826          Agra  ...                      1200  2020/01/02\n",
              "1826    1827          Agra  ...                      1200  2020/01/01\n",
              "\n",
              "[1827 rows x 10 columns]"
            ]
          },
          "metadata": {},
          "execution_count": 48
        }
      ]
    },
    {
      "cell_type": "markdown",
      "metadata": {
        "id": "eLLpAcSrScyE"
      },
      "source": [
        "## **PART B**"
      ]
    },
    {
      "cell_type": "code",
      "metadata": {
        "id": "fzkUGOzPSgdv",
        "colab": {
          "base_uri": "https://localhost:8080/",
          "height": 414
        },
        "outputId": "3a340e17-aa49-4dff-9e54-8fb82239f90f"
      },
      "source": [
        "plt.figure(figsize=(10,5))\n",
        "c_data.groupby(['Market Name'])['Modal Price (Rs./Quintal)'].count().sort_values(ascending=False).head(10).plot.bar()\n",
        "plt.ylabel('Price of potatoes')\n",
        "plt.title(\"Market comparision\",fontsize=20)\n",
        "plt.show()"
      ],
      "execution_count": 49,
      "outputs": [
        {
          "output_type": "display_data",
          "data": {
            "image/png": "[encoded data removed]",
            "text/plain": [
              "<Figure size 720x360 with 1 Axes>"
            ]
          },
          "metadata": {
            "needs_background": "light"
          }
        }
      ]
    },
    {
      "cell_type": "code",
      "metadata": {
        "id": "aBrsZ2GyXKoW",
        "colab": {
          "base_uri": "https://localhost:8080/",
          "height": 203
        },
        "outputId": "9cd5f2b2-b908-40bf-ef85-5c4de4af10f8"
      },
      "source": [
        "#analyzing minimuim and maximuim value of potatoes in year\n",
        "df1 = agri_data.copy()\n",
        "df1.sort_values('Min Price (Rs./Quintal)',inplace=True)\n",
        "df1.head(20)\n",
        "df1.tail()"
      ],
      "execution_count": 50,
      "outputs": [
        {
          "output_type": "execute_result",
          "data": {
            "text/html": [
              "<div>\n",
              "<style scoped>\n",
              "    .dataframe tbody tr th:only-of-type {\n",
              "        vertical-align: middle;\n",
              "    }\n",
              "\n",
              "    .dataframe tbody tr th {\n",
              "        vertical-align: top;\n",
              "    }\n",
              "\n",
              "    .dataframe thead th {\n",
              "        text-align: right;\n",
              "    }\n",
              "</style>\n",
              "<table border=\"1\" class=\"dataframe\">\n",
              "  <thead>\n",
              "    <tr style=\"text-align: right;\">\n",
              "      <th></th>\n",
              "      <th>Sl no.</th>\n",
              "      <th>District Name</th>\n",
              "      <th>Market Name</th>\n",
              "      <th>Commodity</th>\n",
              "      <th>Variety</th>\n",
              "      <th>Grade</th>\n",
              "      <th>Min Price (Rs./Quintal)</th>\n",
              "      <th>Max Price (Rs./Quintal)</th>\n",
              "      <th>Modal Price (Rs./Quintal)</th>\n",
              "      <th>Price Date</th>\n",
              "    </tr>\n",
              "  </thead>\n",
              "  <tbody>\n",
              "    <tr>\n",
              "      <th>1501</th>\n",
              "      <td>1502</td>\n",
              "      <td>Agra</td>\n",
              "      <td>Khairagarh</td>\n",
              "      <td>Potato</td>\n",
              "      <td>Desi</td>\n",
              "      <td>FAQ</td>\n",
              "      <td>2900</td>\n",
              "      <td>3000</td>\n",
              "      <td>2950</td>\n",
              "      <td>2020/12/01</td>\n",
              "    </tr>\n",
              "    <tr>\n",
              "      <th>329</th>\n",
              "      <td>330</td>\n",
              "      <td>Agra</td>\n",
              "      <td>Agra</td>\n",
              "      <td>Potato</td>\n",
              "      <td>Desi</td>\n",
              "      <td>FAQ</td>\n",
              "      <td>2900</td>\n",
              "      <td>3100</td>\n",
              "      <td>3000</td>\n",
              "      <td>2020/12/03</td>\n",
              "    </tr>\n",
              "    <tr>\n",
              "      <th>330</th>\n",
              "      <td>331</td>\n",
              "      <td>Agra</td>\n",
              "      <td>Agra</td>\n",
              "      <td>Potato</td>\n",
              "      <td>Desi</td>\n",
              "      <td>FAQ</td>\n",
              "      <td>2900</td>\n",
              "      <td>3150</td>\n",
              "      <td>3050</td>\n",
              "      <td>2020/12/02</td>\n",
              "    </tr>\n",
              "    <tr>\n",
              "      <th>1169</th>\n",
              "      <td>1170</td>\n",
              "      <td>Agra</td>\n",
              "      <td>Jagnair</td>\n",
              "      <td>Potato</td>\n",
              "      <td>Desi</td>\n",
              "      <td>FAQ</td>\n",
              "      <td>3000</td>\n",
              "      <td>3200</td>\n",
              "      <td>3100</td>\n",
              "      <td>2020/11/25</td>\n",
              "    </tr>\n",
              "    <tr>\n",
              "      <th>27</th>\n",
              "      <td>28</td>\n",
              "      <td>Agra</td>\n",
              "      <td>Achnera</td>\n",
              "      <td>Potato</td>\n",
              "      <td>Desi</td>\n",
              "      <td>FAQ</td>\n",
              "      <td>3750</td>\n",
              "      <td>3850</td>\n",
              "      <td>3800</td>\n",
              "      <td>2020/11/29</td>\n",
              "    </tr>\n",
              "  </tbody>\n",
              "</table>\n",
              "</div>"
            ],
            "text/plain": [
              "      Sl no. District Name  ... Modal Price (Rs./Quintal)  Price Date\n",
              "1501    1502          Agra  ...                      2950  2020/12/01\n",
              "329      330          Agra  ...                      3000  2020/12/03\n",
              "330      331          Agra  ...                      3050  2020/12/02\n",
              "1169    1170          Agra  ...                      3100  2020/11/25\n",
              "27        28          Agra  ...                      3800  2020/11/29\n",
              "\n",
              "[5 rows x 10 columns]"
            ]
          },
          "metadata": {},
          "execution_count": 50
        }
      ]
    },
    {
      "cell_type": "markdown",
      "metadata": {
        "id": "z3cKGgyeS_Ik"
      },
      "source": [
        "\n",
        "\n",
        "## *  Major markets in Agra are\n",
        "\n",
        "\n",
        "1.   Achnera\n",
        "2.   Fatehpur Sikri\n",
        "3.   Agra\n",
        "4.   Fatehabad\n",
        "5.   Khairagarh\n",
        "6.   Jagnair\n",
        "7.   Samsabad\n",
        "8.   Jarar\n",
        "\n",
        "\n",
        "\n",
        "\n"
      ]
    },
    {
      "cell_type": "markdown",
      "metadata": {
        "id": "9lkbUZLHWOHD"
      },
      "source": [
        "# **Trends observed in Markets are :-**\n",
        "\n",
        "\n",
        "*   Achenera market has the highest price of potatoes throughout the year\n",
        "*   Jarar market has the lowest price of potatoes throughout the year\n",
        "*   Fatehpur Sikri and Agra market has almost same price of potatoes\n",
        "*   Khairagarh and Jagnair market has same price of potatoes\n",
        "*   Lowest price of potatoes in year 2020 was 500 INR per quintal in Fatehabad market\n",
        "*   Highest price of potatoes in year 2020 was 3850 INR per quintal in Achnera market\n",
        "\n",
        "\n",
        "\n",
        "\n",
        "\n"
      ]
    },
    {
      "cell_type": "markdown",
      "metadata": {
        "id": "bdT2we9Oa2nI"
      },
      "source": [
        "# **Machine Learning**"
      ]
    },
    {
      "cell_type": "code",
      "metadata": {
        "id": "BlOMB5aXa_jm"
      },
      "source": [
        "# Import libraries for train test split\n",
        "from sklearn.model_selection import train_test_split\n",
        "\n",
        "# import Ilbrary for Scaling\n",
        "from sklearn.preprocessing import StandardScaler\n",
        "\n",
        "# import Ilbrary for Model Building\n",
        "from sklearn.linear_model import LinearRegression\n"
      ],
      "execution_count": 51,
      "outputs": []
    },
    {
      "cell_type": "code",
      "metadata": {
        "id": "BBFXfc5XbHjC"
      },
      "source": [
        "#creating copy of data\n",
        "ml_data = agri_data.copy()"
      ],
      "execution_count": 52,
      "outputs": []
    },
    {
      "cell_type": "code",
      "metadata": {
        "id": "AzRtjRFTbPoy",
        "colab": {
          "base_uri": "https://localhost:8080/"
        },
        "outputId": "2ef2ccf3-cdce-496a-8ac0-eeb9afbc62c1"
      },
      "source": [
        "#Applying mean encoding for Market name\n",
        "name = ml_data.groupby('Market Name')['Modal Price (Rs./Quintal)'].mean()\n",
        "ml_data['Market Name'] = ml_data['Market Name'].map(name)\n",
        "\n",
        "print(ml_data['Market Name'])"
      ],
      "execution_count": 53,
      "outputs": [
        {
          "output_type": "stream",
          "name": "stdout",
          "text": [
            "0       1695.212418\n",
            "1       1695.212418\n",
            "2       1695.212418\n",
            "3       1695.212418\n",
            "4       1695.212418\n",
            "           ...     \n",
            "1822    1141.517857\n",
            "1823    1141.517857\n",
            "1824    1141.517857\n",
            "1825    1141.517857\n",
            "1826    1141.517857\n",
            "Name: Market Name, Length: 1827, dtype: float64\n"
          ]
        }
      ]
    },
    {
      "cell_type": "code",
      "metadata": {
        "id": "aPI7HE_pb9W5",
        "colab": {
          "base_uri": "https://localhost:8080/"
        },
        "outputId": "0ab993d5-62eb-4819-8ff6-36d8d8940dda"
      },
      "source": [
        "#dropping unwanted columns\n",
        "ml_data = ml_data.drop(['Sl no.','District Name','Commodity','Variety','Grade','Price Date'],axis = 1)\n",
        "ml_data.info()"
      ],
      "execution_count": 54,
      "outputs": [
        {
          "output_type": "stream",
          "name": "stdout",
          "text": [
            "<class 'pandas.core.frame.DataFrame'>\n",
            "RangeIndex: 1827 entries, 0 to 1826\n",
            "Data columns (total 4 columns):\n",
            " #   Column                     Non-Null Count  Dtype  \n",
            "---  ------                     --------------  -----  \n",
            " 0   Market Name                1827 non-null   float64\n",
            " 1   Min Price (Rs./Quintal)    1827 non-null   int64  \n",
            " 2   Max Price (Rs./Quintal)    1827 non-null   int64  \n",
            " 3   Modal Price (Rs./Quintal)  1827 non-null   int64  \n",
            "dtypes: float64(1), int64(3)\n",
            "memory usage: 57.2 KB\n"
          ]
        }
      ]
    },
    {
      "cell_type": "code",
      "metadata": {
        "id": "7th7eM2WdDRZ"
      },
      "source": [
        "agri_train,agri_test = train_test_split(ml_data,train_size = 0.7,random_state = 42)"
      ],
      "execution_count": 55,
      "outputs": []
    },
    {
      "cell_type": "code",
      "metadata": {
        "colab": {
          "base_uri": "https://localhost:8080/"
        },
        "id": "5i1wNesCKDMQ",
        "outputId": "f909e5a9-1ed9-434e-bf4f-ce8adc454330"
      },
      "source": [
        "print(agri_train.shape)\n",
        "print(agri_test.shape)"
      ],
      "execution_count": 56,
      "outputs": [
        {
          "output_type": "stream",
          "name": "stdout",
          "text": [
            "(1278, 4)\n",
            "(549, 4)\n"
          ]
        }
      ]
    },
    {
      "cell_type": "code",
      "metadata": {
        "id": "_X8YlR4dKIrf"
      },
      "source": [
        "# Divide tarin set into Dependent and independent variables\n",
        "y_train = agri_train.pop('Modal Price (Rs./Quintal)')\n",
        "\n",
        "X_train = agri_train\n",
        "\n",
        "\n",
        "# Divide test set into Dependent and independent variables\n",
        "y_test = agri_test.pop('Modal Price (Rs./Quintal)')\n",
        "\n",
        "X_test = agri_test"
      ],
      "execution_count": 57,
      "outputs": []
    },
    {
      "cell_type": "code",
      "metadata": {
        "colab": {
          "base_uri": "https://localhost:8080/",
          "height": 497
        },
        "id": "v3e2eUZEKWSi",
        "outputId": "a4c3329c-705f-44e2-dd30-111b07313268"
      },
      "source": [
        "# Scale the train\n",
        "scaler = StandardScaler()\n",
        "\n",
        "X_train[X_train.columns] = scaler.fit_transform(X_train[X_train.columns])\n",
        "\n",
        "X_train.describe()"
      ],
      "execution_count": 58,
      "outputs": [
        {
          "output_type": "stream",
          "name": "stderr",
          "text": [
            "/usr/local/lib/python3.7/dist-packages/ipykernel_launcher.py:4: SettingWithCopyWarning: \n",
            "A value is trying to be set on a copy of a slice from a DataFrame.\n",
            "Try using .loc[row_indexer,col_indexer] = value instead\n",
            "\n",
            "See the caveats in the documentation: https://pandas.pydata.org/pandas-docs/stable/user_guide/indexing.html#returning-a-view-versus-a-copy\n",
            "  after removing the cwd from sys.path.\n",
            "/usr/local/lib/python3.7/dist-packages/pandas/core/indexing.py:1734: SettingWithCopyWarning: \n",
            "A value is trying to be set on a copy of a slice from a DataFrame.\n",
            "Try using .loc[row_indexer,col_indexer] = value instead\n",
            "\n",
            "See the caveats in the documentation: https://pandas.pydata.org/pandas-docs/stable/user_guide/indexing.html#returning-a-view-versus-a-copy\n",
            "  isetter(loc, value[:, i].tolist())\n"
          ]
        },
        {
          "output_type": "execute_result",
          "data": {
            "text/html": [
              "<div>\n",
              "<style scoped>\n",
              "    .dataframe tbody tr th:only-of-type {\n",
              "        vertical-align: middle;\n",
              "    }\n",
              "\n",
              "    .dataframe tbody tr th {\n",
              "        vertical-align: top;\n",
              "    }\n",
              "\n",
              "    .dataframe thead th {\n",
              "        text-align: right;\n",
              "    }\n",
              "</style>\n",
              "<table border=\"1\" class=\"dataframe\">\n",
              "  <thead>\n",
              "    <tr style=\"text-align: right;\">\n",
              "      <th></th>\n",
              "      <th>Market Name</th>\n",
              "      <th>Min Price (Rs./Quintal)</th>\n",
              "      <th>Max Price (Rs./Quintal)</th>\n",
              "    </tr>\n",
              "  </thead>\n",
              "  <tbody>\n",
              "    <tr>\n",
              "      <th>count</th>\n",
              "      <td>1.278000e+03</td>\n",
              "      <td>1.278000e+03</td>\n",
              "      <td>1.278000e+03</td>\n",
              "    </tr>\n",
              "    <tr>\n",
              "      <th>mean</th>\n",
              "      <td>4.347070e-16</td>\n",
              "      <td>8.131211e-17</td>\n",
              "      <td>-1.531552e-16</td>\n",
              "    </tr>\n",
              "    <tr>\n",
              "      <th>std</th>\n",
              "      <td>1.000391e+00</td>\n",
              "      <td>1.000391e+00</td>\n",
              "      <td>1.000391e+00</td>\n",
              "    </tr>\n",
              "    <tr>\n",
              "      <th>min</th>\n",
              "      <td>-1.645505e+00</td>\n",
              "      <td>-2.489489e+00</td>\n",
              "      <td>-2.645209e+00</td>\n",
              "    </tr>\n",
              "    <tr>\n",
              "      <th>25%</th>\n",
              "      <td>-9.890821e-01</td>\n",
              "      <td>-7.013084e-01</td>\n",
              "      <td>-5.557460e-01</td>\n",
              "    </tr>\n",
              "    <tr>\n",
              "      <th>50%</th>\n",
              "      <td>-3.706573e-01</td>\n",
              "      <td>-2.542631e-01</td>\n",
              "      <td>-2.162082e-01</td>\n",
              "    </tr>\n",
              "    <tr>\n",
              "      <th>75%</th>\n",
              "      <td>9.796501e-01</td>\n",
              "      <td>5.012434e-01</td>\n",
              "      <td>4.889857e-01</td>\n",
              "    </tr>\n",
              "    <tr>\n",
              "      <th>max</th>\n",
              "      <td>1.064163e+00</td>\n",
              "      <td>4.216190e+00</td>\n",
              "      <td>4.058486e+00</td>\n",
              "    </tr>\n",
              "  </tbody>\n",
              "</table>\n",
              "</div>"
            ],
            "text/plain": [
              "        Market Name  Min Price (Rs./Quintal)  Max Price (Rs./Quintal)\n",
              "count  1.278000e+03             1.278000e+03             1.278000e+03\n",
              "mean   4.347070e-16             8.131211e-17            -1.531552e-16\n",
              "std    1.000391e+00             1.000391e+00             1.000391e+00\n",
              "min   -1.645505e+00            -2.489489e+00            -2.645209e+00\n",
              "25%   -9.890821e-01            -7.013084e-01            -5.557460e-01\n",
              "50%   -3.706573e-01            -2.542631e-01            -2.162082e-01\n",
              "75%    9.796501e-01             5.012434e-01             4.889857e-01\n",
              "max    1.064163e+00             4.216190e+00             4.058486e+00"
            ]
          },
          "metadata": {},
          "execution_count": 58
        }
      ]
    },
    {
      "cell_type": "code",
      "metadata": {
        "colab": {
          "base_uri": "https://localhost:8080/",
          "height": 497
        },
        "id": "HYcLrFWHKalZ",
        "outputId": "1637aff9-4960-4279-e052-fa157ed4bc87"
      },
      "source": [
        "# Scale the test\n",
        "X_test[X_test.columns] = scaler.transform(X_test[X_test.columns])\n",
        "\n",
        "X_test.describe()"
      ],
      "execution_count": 59,
      "outputs": [
        {
          "output_type": "stream",
          "name": "stderr",
          "text": [
            "/usr/local/lib/python3.7/dist-packages/ipykernel_launcher.py:2: SettingWithCopyWarning: \n",
            "A value is trying to be set on a copy of a slice from a DataFrame.\n",
            "Try using .loc[row_indexer,col_indexer] = value instead\n",
            "\n",
            "See the caveats in the documentation: https://pandas.pydata.org/pandas-docs/stable/user_guide/indexing.html#returning-a-view-versus-a-copy\n",
            "  \n",
            "/usr/local/lib/python3.7/dist-packages/pandas/core/indexing.py:1734: SettingWithCopyWarning: \n",
            "A value is trying to be set on a copy of a slice from a DataFrame.\n",
            "Try using .loc[row_indexer,col_indexer] = value instead\n",
            "\n",
            "See the caveats in the documentation: https://pandas.pydata.org/pandas-docs/stable/user_guide/indexing.html#returning-a-view-versus-a-copy\n",
            "  isetter(loc, value[:, i].tolist())\n"
          ]
        },
        {
          "output_type": "execute_result",
          "data": {
            "text/html": [
              "<div>\n",
              "<style scoped>\n",
              "    .dataframe tbody tr th:only-of-type {\n",
              "        vertical-align: middle;\n",
              "    }\n",
              "\n",
              "    .dataframe tbody tr th {\n",
              "        vertical-align: top;\n",
              "    }\n",
              "\n",
              "    .dataframe thead th {\n",
              "        text-align: right;\n",
              "    }\n",
              "</style>\n",
              "<table border=\"1\" class=\"dataframe\">\n",
              "  <thead>\n",
              "    <tr style=\"text-align: right;\">\n",
              "      <th></th>\n",
              "      <th>Market Name</th>\n",
              "      <th>Min Price (Rs./Quintal)</th>\n",
              "      <th>Max Price (Rs./Quintal)</th>\n",
              "    </tr>\n",
              "  </thead>\n",
              "  <tbody>\n",
              "    <tr>\n",
              "      <th>count</th>\n",
              "      <td>549.000000</td>\n",
              "      <td>549.000000</td>\n",
              "      <td>549.000000</td>\n",
              "    </tr>\n",
              "    <tr>\n",
              "      <th>mean</th>\n",
              "      <td>-0.026815</td>\n",
              "      <td>0.003623</td>\n",
              "      <td>0.013845</td>\n",
              "    </tr>\n",
              "    <tr>\n",
              "      <th>std</th>\n",
              "      <td>1.027077</td>\n",
              "      <td>1.018673</td>\n",
              "      <td>1.019901</td>\n",
              "    </tr>\n",
              "    <tr>\n",
              "      <th>min</th>\n",
              "      <td>-1.645505</td>\n",
              "      <td>-2.489489</td>\n",
              "      <td>-2.645209</td>\n",
              "    </tr>\n",
              "    <tr>\n",
              "      <th>25%</th>\n",
              "      <td>-0.989082</td>\n",
              "      <td>-0.701308</td>\n",
              "      <td>-0.555746</td>\n",
              "    </tr>\n",
              "    <tr>\n",
              "      <th>50%</th>\n",
              "      <td>-0.370657</td>\n",
              "      <td>-0.307909</td>\n",
              "      <td>-0.294563</td>\n",
              "    </tr>\n",
              "    <tr>\n",
              "      <th>75%</th>\n",
              "      <td>0.979650</td>\n",
              "      <td>0.550418</td>\n",
              "      <td>0.576047</td>\n",
              "    </tr>\n",
              "    <tr>\n",
              "      <th>max</th>\n",
              "      <td>1.064163</td>\n",
              "      <td>2.606827</td>\n",
              "      <td>2.752571</td>\n",
              "    </tr>\n",
              "  </tbody>\n",
              "</table>\n",
              "</div>"
            ],
            "text/plain": [
              "       Market Name  Min Price (Rs./Quintal)  Max Price (Rs./Quintal)\n",
              "count   549.000000               549.000000               549.000000\n",
              "mean     -0.026815                 0.003623                 0.013845\n",
              "std       1.027077                 1.018673                 1.019901\n",
              "min      -1.645505                -2.489489                -2.645209\n",
              "25%      -0.989082                -0.701308                -0.555746\n",
              "50%      -0.370657                -0.307909                -0.294563\n",
              "75%       0.979650                 0.550418                 0.576047\n",
              "max       1.064163                 2.606827                 2.752571"
            ]
          },
          "metadata": {},
          "execution_count": 59
        }
      ]
    },
    {
      "cell_type": "code",
      "metadata": {
        "id": "1uOrRdzeKeMF"
      },
      "source": [
        "# Build the model\n",
        "lr = LinearRegression()\n",
        "\n",
        "agri_reg = lr.fit(X_train,y_train)"
      ],
      "execution_count": 65,
      "outputs": []
    },
    {
      "cell_type": "code",
      "metadata": {
        "colab": {
          "base_uri": "https://localhost:8080/"
        },
        "id": "QOnYGNkHKhjF",
        "outputId": "5ee24bab-4d62-45e9-e330-84e09ffb69be"
      },
      "source": [
        "# the r2 score\n",
        "agri_reg.score(X_train,y_train)"
      ],
      "execution_count": 66,
      "outputs": [
        {
          "output_type": "execute_result",
          "data": {
            "text/plain": [
              "0.8986258114018534"
            ]
          },
          "metadata": {},
          "execution_count": 66
        }
      ]
    },
    {
      "cell_type": "code",
      "metadata": {
        "colab": {
          "base_uri": "https://localhost:8080/"
        },
        "id": "zuaQeeQMKk5Q",
        "outputId": "9257d77d-2ab8-4e79-988b-d938d970aec6"
      },
      "source": [
        "# r2 for test data\n",
        "agri_reg.score(X_test,y_test)"
      ],
      "execution_count": 67,
      "outputs": [
        {
          "output_type": "execute_result",
          "data": {
            "text/plain": [
              "0.9203751298241817"
            ]
          },
          "metadata": {},
          "execution_count": 67
        }
      ]
    },
    {
      "cell_type": "code",
      "metadata": {
        "colab": {
          "base_uri": "https://localhost:8080/",
          "height": 409
        },
        "id": "gSQrDQ6DK6cD",
        "outputId": "888a8dc2-dd71-4846-c620-13c792451416"
      },
      "source": [
        "# Plot Distribution plot of Residuals\n",
        "plt.figure(figsize=(10,5))\n",
        "y_train_pred = agri_reg.predict(X_train)\n",
        "res = y_train - y_train_pred\n",
        "sns.distplot(res)\n",
        "plt.xlabel('Residuals')\n",
        "plt.title(\"Residual Analysis\",fontsize=20)\n",
        "plt.show()"
      ],
      "execution_count": 68,
      "outputs": [
        {
          "output_type": "stream",
          "name": "stderr",
          "text": [
            "/usr/local/lib/python3.7/dist-packages/seaborn/distributions.py:2557: FutureWarning: `distplot` is a deprecated function and will be removed in a future version. Please adapt your code to use either `displot` (a figure-level function with similar flexibility) or `histplot` (an axes-level function for histograms).\n",
            "  warnings.warn(msg, FutureWarning)\n"
          ]
        },
        {
          "output_type": "display_data",
          "data": {
            "image/png": "[encoded data removed]",
            "text/plain": [
              "<Figure size 720x360 with 1 Axes>"
            ]
          },
          "metadata": {
            "needs_background": "light"
          }
        }
      ]
    },
    {
      "cell_type": "code",
      "metadata": {
        "colab": {
          "base_uri": "https://localhost:8080/",
          "height": 300
        },
        "id": "_hxta9f0LBxZ",
        "outputId": "ad7c050d-3f23-42b7-9273-214002652149"
      },
      "source": [
        "sns.scatterplot(x=res,y=y_train_pred)\n",
        "plt.xlabel('Residuals')\n",
        "plt.title(\"Residual Analysis\",fontsize=20)\n",
        "plt.show()"
      ],
      "execution_count": 69,
      "outputs": [
        {
          "output_type": "display_data",
          "data": {
            "image/png": "[encoded data removed]",
            "text/plain": [
              "<Figure size 432x288 with 1 Axes>"
            ]
          },
          "metadata": {
            "needs_background": "light"
          }
        }
      ]
    },
    {
      "cell_type": "code",
      "metadata": {
        "colab": {
          "base_uri": "https://localhost:8080/"
        },
        "id": "tylcqWoILEno",
        "outputId": "65d069be-c240-4664-8de5-f310996ccc6a"
      },
      "source": [
        "# Print coef\n",
        "print(\"Coef are:\",agri_reg.coef_)\n",
        "\n",
        "#print intercept\n",
        "print(\"Intercept is\",agri_reg.intercept_)"
      ],
      "execution_count": 70,
      "outputs": [
        {
          "output_type": "stream",
          "name": "stdout",
          "text": [
            "Coef are: [ 40.99814669 455.32326422  50.51690724]\n",
            "Intercept is 1473.6580594679185\n"
          ]
        }
      ]
    },
    {
      "cell_type": "code",
      "metadata": {
        "colab": {
          "base_uri": "https://localhost:8080/"
        },
        "id": "ug2VyKgaLiBG",
        "outputId": "55deb391-c303-4ca8-a13d-af57fe5b5aef"
      },
      "source": [
        "model = str(agri_reg.intercept_)\n",
        "\n",
        "for i in range(len(agri_reg.coef_)):\n",
        "    model = model +' + '  +(str(agri_reg.coef_[i])) + ' * ' +(str(X_train.columns[i]))\n",
        "print(model)"
      ],
      "execution_count": 71,
      "outputs": [
        {
          "output_type": "stream",
          "name": "stdout",
          "text": [
            "1473.6580594679185 + 40.99814669304106 * Market Name + 455.32326421849 * Min Price (Rs./Quintal) + 50.51690723857695 * Max Price (Rs./Quintal)\n"
          ]
        }
      ]
    },
    {
      "cell_type": "markdown",
      "metadata": {
        "id": "R3ue8jcdLrn8"
      },
      "source": [
        "## **The final result we get is the formula :-**\n",
        "**To calculate future price of potatoes, the formula is: -** 1473.6580594679185 + 40.99814669304106 * Market Name + 455.32326421849 * Min Price (Rs./Quintal) + 50.51690723857695 * Max Price (Rs./Quintal)"
      ]
    }
  ]
}